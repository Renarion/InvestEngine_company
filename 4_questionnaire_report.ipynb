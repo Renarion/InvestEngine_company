{
 "cells": [
  {
   "cell_type": "code",
   "execution_count": null,
   "metadata": {},
   "outputs": [],
   "source": [
    "import os\n",
    "import pandas as pd\n",
    "import numpy as np\n",
    "import plotly.express as px\n",
    "import mysql.connector\n",
    "from google.cloud import bigquery\n",
    "import datetime\n",
    "from datetime import timedelta\n",
    "import db_dtypes\n",
    "from plotly import graph_objects as go\n",
    "import plotly.figure_factory as ff\n",
    "import pandas_gbq as pandas\n",
    "import pytz\n",
    "\n",
    "\n",
    "mydb = mysql.connector.connect(\n",
    "  host=\"ro.db.investengine.com\",\n",
    "  user=\"renat.yunisov\",\n",
    "  password=\"HtyfnHtyfn2002%\",\n",
    "  database=\"investengine\"\n",
    ")\n",
    "\n",
    "date_before_today = (datetime.datetime.now() - timedelta(days=1)).strftime(\"%Y%m%d\")\n",
    "date_start = (datetime.datetime.now() - timedelta(days=2)).strftime(\"%Y%m%d\")\n",
    "date_end = (datetime.datetime.now() - timedelta(days=1)).strftime(\"%Y%m%d\")\n",
    "\n",
    "os.environ.setdefault(\"GCLOUD_PROJECT\", \"investengine-analytics\")\n",
    "client = bigquery.Client()"
   ]
  }
 ],
 "metadata": {
  "kernelspec": {
   "display_name": "Python 3",
   "language": "python",
   "name": "python3"
  },
  "language_info": {
   "name": "python",
   "version": "3.9.6"
  }
 },
 "nbformat": 4,
 "nbformat_minor": 2
}
