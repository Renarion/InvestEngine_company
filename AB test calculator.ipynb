{
 "cells": [
  {
   "cell_type": "code",
   "execution_count": 4,
   "metadata": {},
   "outputs": [],
   "source": [
    "import pandas as pd\n",
    "import numpy as np\n",
    "import plotly.express as px\n",
    "import matplotlib.pyplot as plt\n",
    "import seaborn as sns\n",
    "import plotly.figure_factory as ff\n",
    "from datetime import datetime, timedelta, date\n",
    "import datetime\n",
    "import locale\n",
    "import scipy.stats as ss\n",
    "import random\n",
    "\n",
    "# locale.setlocale(\n",
    "#     category=locale.LC_ALL,\n",
    "#     locale=\"ru_RU\"  # Note: do not use \"de_DE\" as it doesn't work\n",
    "# )\n",
    "\n",
    "%matplotlib inline\n",
    "\n",
    "now = datetime.datetime.now().strftime('%d %B %Y %H:%M:%S')\n",
    "\n",
    "\n"
   ]
  },
  {
   "cell_type": "code",
   "execution_count": 7,
   "metadata": {},
   "outputs": [],
   "source": [
    "class Ab_test_calculator:\n",
    "\n",
    "    def __init__(self, df, data_list, p = 0, mde = 0, alpha = 0.05, beta = 0.2, conversion_metric = True, binary_value = False):\n",
    "\n",
    "        self.conversion_metric = conversion_metric\n",
    "        self.data_list = data_list\n",
    "        self.mde = mde\n",
    "        self.alpha = alpha\n",
    "        self.beta = beta\n",
    "        self.binary_value = binary_value\n",
    "        self.p = p\n",
    "\n",
    "        # checking on correctness of mde\n",
    "        if self.mde < 0:\n",
    "            print('MDE cannot be less than 0')\n",
    "        elif len(data_list) == 0:\n",
    "            print(f\"data list lenght equals {len(data_list)} - Its not enough\")\n",
    "        elif self.mde > 1 or self.mde <= 0:\n",
    "            print('MDE cannot be over than 1 or less than 0')\n",
    "\n",
    "    def sample_size_calculator(self):\n",
    "\n",
    "        import pandas as pd\n",
    "        import numpy as np\n",
    "        import scipy.stats as ss\n",
    "\n",
    "        # quantile alpha and beta for Z statistics\n",
    "        alpha_Z_q = np.quantile(ss.zscore(self.data_list), (self.alpha / 2)) #??? ----\n",
    "        beta_Z_q = np.quantile(ss.zscore(self.data_list), self.beta) #??? ----\n",
    "\n",
    "        # np.quantile(ss.zscore(np.random.normal(loc=0.0, scale=1.0, size=60000)), 0.05 / 2)\n",
    "\n",
    "        # preparing of binary value\n",
    "        if self.binary_value == True:\n",
    "             total_1 = np.count_nonzero(self.data_list)\n",
    "             total_amount = len(self.data_list)\n",
    "             self.p = total_1 / total_amount\n",
    "        elif self.binary_value == False:\n",
    "             pass\n",
    "       \n",
    "        if self.conversion_metric == True: # for conversional metrics\n",
    "            var_conv_metric = self.p * (1 - self.p)\n",
    "        else: # for quantitive metrics\n",
    "            var_quantitive_metric = np.var(self.data_list, ddof=1)\n",
    "        \n",
    "        # calculation sample size for both of types\n",
    "        sample_size_quantitive = ((var_quantitive_metric**2) * (alpha_Z_q + beta_Z_q)**2 / self.mde**2)\n",
    "\n",
    "        sample_size_conversion = ((var_conv_metric**2) * (alpha_Z_q + beta_Z_q)**2 / self.mde**2)\n",
    "\n",
    "        if self.conversion_metric == True:\n",
    "            return print(f'We need this number for each sample: {int(sample_size_conversion)}')\n",
    "        else:\n",
    "            return print(f'We need this number for each sample: {int(sample_size_quantitive)}')\n",
    "        \n",
    "    # next plans: charts and summarizing\n"
   ]
  },
  {
   "cell_type": "code",
   "execution_count": 11,
   "metadata": {},
   "outputs": [],
   "source": [
    "x = [11111,22222,32323333,33232333,32323333,2324444,4555,555523325,6666,7777,788232388,89999,97675,156460,11311,113131,13241]"
   ]
  }
 ],
 "metadata": {
  "kernelspec": {
   "display_name": "Python 3",
   "language": "python",
   "name": "python3"
  },
  "language_info": {
   "codemirror_mode": {
    "name": "ipython",
    "version": 3
   },
   "file_extension": ".py",
   "mimetype": "text/x-python",
   "name": "python",
   "nbconvert_exporter": "python",
   "pygments_lexer": "ipython3",
   "version": "3.9.6"
  }
 },
 "nbformat": 4,
 "nbformat_minor": 2
}
